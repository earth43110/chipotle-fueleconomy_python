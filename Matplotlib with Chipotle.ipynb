{
 "cells": [
  {
   "cell_type": "code",
   "execution_count": 1,
   "id": "5c81e9b6-5f27-4d9f-92a6-4a64a2eb8907",
   "metadata": {},
   "outputs": [],
   "source": [
    "import pandas as pd\n",
    "import matplotlib.pyplot as plt\n",
    "from collections import Counter\n",
    "\n",
    "#set this so the graphs open internally\n",
    "%matplotlib inline"
   ]
  },
  {
   "cell_type": "code",
   "execution_count": 5,
   "id": "b991e481-ce5d-4fb2-b500-bcb52138d24a",
   "metadata": {},
   "outputs": [],
   "source": [
    "chipotle = pd.read_csv(\"chipotle.tsv\", sep=\"\\t\")"
   ]
  },
  {
   "cell_type": "markdown",
   "id": "3be8c865-4063-451c-9928-65b9bb7dce41",
   "metadata": {},
   "source": [
    "# See the first 10 entries"
   ]
  },
  {
   "cell_type": "code",
   "execution_count": 9,
   "id": "aa19c180-12b0-4708-8cee-075510901b19",
   "metadata": {},
   "outputs": [
    {
     "data": {
      "text/html": [
       "<div>\n",
       "<style scoped>\n",
       "    .dataframe tbody tr th:only-of-type {\n",
       "        vertical-align: middle;\n",
       "    }\n",
       "\n",
       "    .dataframe tbody tr th {\n",
       "        vertical-align: top;\n",
       "    }\n",
       "\n",
       "    .dataframe thead th {\n",
       "        text-align: right;\n",
       "    }\n",
       "</style>\n",
       "<table border=\"1\" class=\"dataframe\">\n",
       "  <thead>\n",
       "    <tr style=\"text-align: right;\">\n",
       "      <th></th>\n",
       "      <th>order_id</th>\n",
       "      <th>quantity</th>\n",
       "      <th>item_name</th>\n",
       "      <th>choice_description</th>\n",
       "      <th>item_price</th>\n",
       "    </tr>\n",
       "  </thead>\n",
       "  <tbody>\n",
       "    <tr>\n",
       "      <th>0</th>\n",
       "      <td>1</td>\n",
       "      <td>1</td>\n",
       "      <td>Chips and Fresh Tomato Salsa</td>\n",
       "      <td>NaN</td>\n",
       "      <td>$2.39</td>\n",
       "    </tr>\n",
       "    <tr>\n",
       "      <th>1</th>\n",
       "      <td>1</td>\n",
       "      <td>1</td>\n",
       "      <td>Izze</td>\n",
       "      <td>[Clementine]</td>\n",
       "      <td>$3.39</td>\n",
       "    </tr>\n",
       "    <tr>\n",
       "      <th>2</th>\n",
       "      <td>1</td>\n",
       "      <td>1</td>\n",
       "      <td>Nantucket Nectar</td>\n",
       "      <td>[Apple]</td>\n",
       "      <td>$3.39</td>\n",
       "    </tr>\n",
       "    <tr>\n",
       "      <th>3</th>\n",
       "      <td>1</td>\n",
       "      <td>1</td>\n",
       "      <td>Chips and Tomatillo-Green Chili Salsa</td>\n",
       "      <td>NaN</td>\n",
       "      <td>$2.39</td>\n",
       "    </tr>\n",
       "    <tr>\n",
       "      <th>4</th>\n",
       "      <td>2</td>\n",
       "      <td>2</td>\n",
       "      <td>Chicken Bowl</td>\n",
       "      <td>[Tomatillo-Red Chili Salsa (Hot), [Black Beans...</td>\n",
       "      <td>$16.98</td>\n",
       "    </tr>\n",
       "    <tr>\n",
       "      <th>5</th>\n",
       "      <td>3</td>\n",
       "      <td>1</td>\n",
       "      <td>Chicken Bowl</td>\n",
       "      <td>[Fresh Tomato Salsa (Mild), [Rice, Cheese, Sou...</td>\n",
       "      <td>$10.98</td>\n",
       "    </tr>\n",
       "    <tr>\n",
       "      <th>6</th>\n",
       "      <td>3</td>\n",
       "      <td>1</td>\n",
       "      <td>Side of Chips</td>\n",
       "      <td>NaN</td>\n",
       "      <td>$1.69</td>\n",
       "    </tr>\n",
       "    <tr>\n",
       "      <th>7</th>\n",
       "      <td>4</td>\n",
       "      <td>1</td>\n",
       "      <td>Steak Burrito</td>\n",
       "      <td>[Tomatillo Red Chili Salsa, [Fajita Vegetables...</td>\n",
       "      <td>$11.75</td>\n",
       "    </tr>\n",
       "    <tr>\n",
       "      <th>8</th>\n",
       "      <td>4</td>\n",
       "      <td>1</td>\n",
       "      <td>Steak Soft Tacos</td>\n",
       "      <td>[Tomatillo Green Chili Salsa, [Pinto Beans, Ch...</td>\n",
       "      <td>$9.25</td>\n",
       "    </tr>\n",
       "    <tr>\n",
       "      <th>9</th>\n",
       "      <td>5</td>\n",
       "      <td>1</td>\n",
       "      <td>Steak Burrito</td>\n",
       "      <td>[Fresh Tomato Salsa, [Rice, Black Beans, Pinto...</td>\n",
       "      <td>$9.25</td>\n",
       "    </tr>\n",
       "  </tbody>\n",
       "</table>\n",
       "</div>"
      ],
      "text/plain": [
       "   order_id  quantity                              item_name  \\\n",
       "0         1         1           Chips and Fresh Tomato Salsa   \n",
       "1         1         1                                   Izze   \n",
       "2         1         1                       Nantucket Nectar   \n",
       "3         1         1  Chips and Tomatillo-Green Chili Salsa   \n",
       "4         2         2                           Chicken Bowl   \n",
       "5         3         1                           Chicken Bowl   \n",
       "6         3         1                          Side of Chips   \n",
       "7         4         1                          Steak Burrito   \n",
       "8         4         1                       Steak Soft Tacos   \n",
       "9         5         1                          Steak Burrito   \n",
       "\n",
       "                                  choice_description item_price  \n",
       "0                                                NaN     $2.39   \n",
       "1                                       [Clementine]     $3.39   \n",
       "2                                            [Apple]     $3.39   \n",
       "3                                                NaN     $2.39   \n",
       "4  [Tomatillo-Red Chili Salsa (Hot), [Black Beans...    $16.98   \n",
       "5  [Fresh Tomato Salsa (Mild), [Rice, Cheese, Sou...    $10.98   \n",
       "6                                                NaN     $1.69   \n",
       "7  [Tomatillo Red Chili Salsa, [Fajita Vegetables...    $11.75   \n",
       "8  [Tomatillo Green Chili Salsa, [Pinto Beans, Ch...     $9.25   \n",
       "9  [Fresh Tomato Salsa, [Rice, Black Beans, Pinto...     $9.25   "
      ]
     },
     "execution_count": 9,
     "metadata": {},
     "output_type": "execute_result"
    }
   ],
   "source": [
    "chipotle.head(10)"
   ]
  },
  {
   "cell_type": "markdown",
   "id": "c0d3386b-fda9-4cd1-80d9-8a96badc89dd",
   "metadata": {},
   "source": [
    "# Create a bar chart of the top 5 items bought"
   ]
  },
  {
   "cell_type": "code",
   "execution_count": 21,
   "id": "22abd94d-b2fa-4e01-906a-fd4e86cb5e10",
   "metadata": {},
   "outputs": [
    {
     "data": {
      "text/plain": [
       "item_name\n",
       "Chicken Bowl           761\n",
       "Chicken Burrito        591\n",
       "Chips and Guacamole    506\n",
       "Steak Burrito          386\n",
       "Canned Soft Drink      351\n",
       "Name: quantity, dtype: int64"
      ]
     },
     "execution_count": 21,
     "metadata": {},
     "output_type": "execute_result"
    }
   ],
   "source": [
    "top5itemsbought = chipotle.groupby(by=\"item_name\")[\"quantity\"].sum().sort_values(ascending=False).head(5)\n",
    "top5itemsbought"
   ]
  },
  {
   "cell_type": "code",
   "execution_count": 23,
   "id": "2383b512-35e2-4b88-85ae-20a926bd1725",
   "metadata": {},
   "outputs": [
    {
     "name": "stdout",
     "output_type": "stream",
     "text": [
      "Index(['Chicken Bowl', 'Chicken Burrito', 'Chips and Guacamole',\n",
      "       'Steak Burrito', 'Canned Soft Drink'],\n",
      "      dtype='object', name='item_name')\n",
      "[761 591 506 386 351]\n"
     ]
    }
   ],
   "source": [
    "print(top5itemsbought.index)\n",
    "print(top5itemsbought.values)"
   ]
  },
  {
   "cell_type": "code",
   "execution_count": 29,
   "id": "a683e6ed-eaf3-417b-bcf4-baf64216c563",
   "metadata": {},
   "outputs": [
    {
     "data": {
      "image/png": "[encoded data removed]",
      "text/plain": [
       "<Figure size 640x480 with 1 Axes>"
      ]
     },
     "metadata": {},
     "output_type": "display_data"
    }
   ],
   "source": [
    "plt.barh(top5itemsbought.index,top5itemsbought.values)\n",
    "plt.show()"
   ]
  },
  {
   "cell_type": "markdown",
   "id": "c6fff3b2-0093-40ef-8a7e-946722d6144c",
   "metadata": {},
   "source": [
    "# Create a scatterplot with the number of items ordered per order price"
   ]
  },
  {
   "cell_type": "code",
   "execution_count": 53,
   "id": "49ab788f-fc55-41e3-90b4-4774b743dc20",
   "metadata": {},
   "outputs": [],
   "source": [
    "chipotle.item_price = chipotle.item_price.str.replace('$','',regex=False).astype(float)"
   ]
  },
  {
   "cell_type": "code",
   "execution_count": 55,
   "id": "ede7f4f2-3a74-432e-9f17-a020daee7004",
   "metadata": {},
   "outputs": [
    {
     "data": {
      "text/html": [
       "<div>\n",
       "<style scoped>\n",
       "    .dataframe tbody tr th:only-of-type {\n",
       "        vertical-align: middle;\n",
       "    }\n",
       "\n",
       "    .dataframe tbody tr th {\n",
       "        vertical-align: top;\n",
       "    }\n",
       "\n",
       "    .dataframe thead th {\n",
       "        text-align: right;\n",
       "    }\n",
       "</style>\n",
       "<table border=\"1\" class=\"dataframe\">\n",
       "  <thead>\n",
       "    <tr style=\"text-align: right;\">\n",
       "      <th></th>\n",
       "      <th>order_id</th>\n",
       "      <th>quantity</th>\n",
       "      <th>item_name</th>\n",
       "      <th>choice_description</th>\n",
       "      <th>item_price</th>\n",
       "    </tr>\n",
       "  </thead>\n",
       "  <tbody>\n",
       "    <tr>\n",
       "      <th>0</th>\n",
       "      <td>1</td>\n",
       "      <td>1</td>\n",
       "      <td>Chips and Fresh Tomato Salsa</td>\n",
       "      <td>NaN</td>\n",
       "      <td>2.39</td>\n",
       "    </tr>\n",
       "    <tr>\n",
       "      <th>1</th>\n",
       "      <td>1</td>\n",
       "      <td>1</td>\n",
       "      <td>Izze</td>\n",
       "      <td>[Clementine]</td>\n",
       "      <td>3.39</td>\n",
       "    </tr>\n",
       "    <tr>\n",
       "      <th>2</th>\n",
       "      <td>1</td>\n",
       "      <td>1</td>\n",
       "      <td>Nantucket Nectar</td>\n",
       "      <td>[Apple]</td>\n",
       "      <td>3.39</td>\n",
       "    </tr>\n",
       "    <tr>\n",
       "      <th>3</th>\n",
       "      <td>1</td>\n",
       "      <td>1</td>\n",
       "      <td>Chips and Tomatillo-Green Chili Salsa</td>\n",
       "      <td>NaN</td>\n",
       "      <td>2.39</td>\n",
       "    </tr>\n",
       "    <tr>\n",
       "      <th>4</th>\n",
       "      <td>2</td>\n",
       "      <td>2</td>\n",
       "      <td>Chicken Bowl</td>\n",
       "      <td>[Tomatillo-Red Chili Salsa (Hot), [Black Beans...</td>\n",
       "      <td>16.98</td>\n",
       "    </tr>\n",
       "  </tbody>\n",
       "</table>\n",
       "</div>"
      ],
      "text/plain": [
       "   order_id  quantity                              item_name  \\\n",
       "0         1         1           Chips and Fresh Tomato Salsa   \n",
       "1         1         1                                   Izze   \n",
       "2         1         1                       Nantucket Nectar   \n",
       "3         1         1  Chips and Tomatillo-Green Chili Salsa   \n",
       "4         2         2                           Chicken Bowl   \n",
       "\n",
       "                                  choice_description  item_price  \n",
       "0                                                NaN        2.39  \n",
       "1                                       [Clementine]        3.39  \n",
       "2                                            [Apple]        3.39  \n",
       "3                                                NaN        2.39  \n",
       "4  [Tomatillo-Red Chili Salsa (Hot), [Black Beans...       16.98  "
      ]
     },
     "execution_count": 55,
     "metadata": {},
     "output_type": "execute_result"
    }
   ],
   "source": [
    "chipotle.head()"
   ]
  },
  {
   "cell_type": "code",
   "execution_count": 79,
   "id": "432edb86-2e1a-4f4b-ada0-4f0b37fb75dc",
   "metadata": {},
   "outputs": [
    {
     "data": {
      "text/plain": [
       "order_id\n",
       "926     205.25\n",
       "1443    160.74\n",
       "1483    139.00\n",
       "691     118.25\n",
       "1786    114.30\n",
       "         ...  \n",
       "17       10.08\n",
       "889      10.08\n",
       "1014     10.08\n",
       "1303     10.08\n",
       "1602     10.08\n",
       "Name: item_price, Length: 1834, dtype: float64"
      ]
     },
     "execution_count": 79,
     "metadata": {},
     "output_type": "execute_result"
    }
   ],
   "source": [
    "itemquantityprice = chipotle.groupby(by=\"order_id\").agg({'quantity':'sum','item_price':'sum'})\n",
    "itemquantityprice.item_price.sort_values(ascending=False)"
   ]
  },
  {
   "cell_type": "code",
   "execution_count": 87,
   "id": "0551d24e-56e5-45ec-b868-2cd07b06ce60",
   "metadata": {},
   "outputs": [
    {
     "data": {
      "image/png": "[encoded data removed]",
      "text/plain": [
       "<Figure size 640x480 with 1 Axes>"
      ]
     },
     "metadata": {},
     "output_type": "display_data"
    }
   ],
   "source": [
    "plt.plot(itemquantityprice.item_price,itemquantityprice.quantity)\n",
    "plt.xlabel(\"item_price\")\n",
    "plt.ylabel(\"quantity\")\n",
    "plt.show()"
   ]
  },
  {
   "cell_type": "code",
   "execution_count": 91,
   "id": "ba82d051-670a-452b-9160-71f9032b359c",
   "metadata": {},
   "outputs": [
    {
     "data": {
      "image/png": "[encoded data removed]",
      "text/plain": [
       "<Figure size 640x480 with 1 Axes>"
      ]
     },
     "metadata": {},
     "output_type": "display_data"
    }
   ],
   "source": [
    "plt.plot(itemquantityprice.item_price,itemquantityprice.quantity,'.')\n",
    "plt.xlabel(\"item_price\")\n",
    "plt.ylabel(\"quantity\")\n",
    "plt.show()"
   ]
  },
  {
   "cell_type": "code",
   "execution_count": 89,
   "id": "9d0263aa-22f8-4fc4-b484-f0c5d701ae7a",
   "metadata": {},
   "outputs": [
    {
     "data": {
      "image/png": "[encoded data removed]",
      "text/plain": [
       "<Figure size 640x480 with 1 Axes>"
      ]
     },
     "metadata": {},
     "output_type": "display_data"
    }
   ],
   "source": [
    "plt.plot(itemquantityprice.item_price,itemquantityprice.quantity,'o')\n",
    "plt.xlabel(\"item_price\")\n",
    "plt.ylabel(\"quantity\")\n",
    "plt.show()"
   ]
  },
  {
   "cell_type": "markdown",
   "id": "30c2bb77-c83d-4c32-aee0-203075992673",
   "metadata": {},
   "source": [
    "#show the 5 most expensive items on the basis of cost per item"
   ]
  },
  {
   "cell_type": "code",
   "execution_count": 97,
   "id": "22d21993-857f-4ae5-a2d6-eada15a752ca",
   "metadata": {},
   "outputs": [
    {
     "data": {
      "text/html": [
       "<div>\n",
       "<style scoped>\n",
       "    .dataframe tbody tr th:only-of-type {\n",
       "        vertical-align: middle;\n",
       "    }\n",
       "\n",
       "    .dataframe tbody tr th {\n",
       "        vertical-align: top;\n",
       "    }\n",
       "\n",
       "    .dataframe thead th {\n",
       "        text-align: right;\n",
       "    }\n",
       "</style>\n",
       "<table border=\"1\" class=\"dataframe\">\n",
       "  <thead>\n",
       "    <tr style=\"text-align: right;\">\n",
       "      <th></th>\n",
       "      <th>quantity</th>\n",
       "      <th>item_price</th>\n",
       "    </tr>\n",
       "    <tr>\n",
       "      <th>item_name</th>\n",
       "      <th></th>\n",
       "      <th></th>\n",
       "    </tr>\n",
       "  </thead>\n",
       "  <tbody>\n",
       "    <tr>\n",
       "      <th>6 Pack Soft Drink</th>\n",
       "      <td>55</td>\n",
       "      <td>356.95</td>\n",
       "    </tr>\n",
       "    <tr>\n",
       "      <th>Barbacoa Bowl</th>\n",
       "      <td>66</td>\n",
       "      <td>672.36</td>\n",
       "    </tr>\n",
       "    <tr>\n",
       "      <th>Barbacoa Burrito</th>\n",
       "      <td>91</td>\n",
       "      <td>894.75</td>\n",
       "    </tr>\n",
       "    <tr>\n",
       "      <th>Barbacoa Crispy Tacos</th>\n",
       "      <td>12</td>\n",
       "      <td>120.21</td>\n",
       "    </tr>\n",
       "    <tr>\n",
       "      <th>Barbacoa Salad Bowl</th>\n",
       "      <td>10</td>\n",
       "      <td>106.40</td>\n",
       "    </tr>\n",
       "    <tr>\n",
       "      <th>Barbacoa Soft Tacos</th>\n",
       "      <td>25</td>\n",
       "      <td>250.46</td>\n",
       "    </tr>\n",
       "    <tr>\n",
       "      <th>Bottled Water</th>\n",
       "      <td>211</td>\n",
       "      <td>302.56</td>\n",
       "    </tr>\n",
       "    <tr>\n",
       "      <th>Bowl</th>\n",
       "      <td>4</td>\n",
       "      <td>29.60</td>\n",
       "    </tr>\n",
       "    <tr>\n",
       "      <th>Burrito</th>\n",
       "      <td>6</td>\n",
       "      <td>44.40</td>\n",
       "    </tr>\n",
       "    <tr>\n",
       "      <th>Canned Soda</th>\n",
       "      <td>126</td>\n",
       "      <td>137.34</td>\n",
       "    </tr>\n",
       "    <tr>\n",
       "      <th>Canned Soft Drink</th>\n",
       "      <td>351</td>\n",
       "      <td>438.75</td>\n",
       "    </tr>\n",
       "    <tr>\n",
       "      <th>Carnitas Bowl</th>\n",
       "      <td>71</td>\n",
       "      <td>736.71</td>\n",
       "    </tr>\n",
       "    <tr>\n",
       "      <th>Carnitas Burrito</th>\n",
       "      <td>60</td>\n",
       "      <td>597.83</td>\n",
       "    </tr>\n",
       "    <tr>\n",
       "      <th>Carnitas Crispy Tacos</th>\n",
       "      <td>8</td>\n",
       "      <td>77.96</td>\n",
       "    </tr>\n",
       "    <tr>\n",
       "      <th>Carnitas Salad</th>\n",
       "      <td>1</td>\n",
       "      <td>8.99</td>\n",
       "    </tr>\n",
       "    <tr>\n",
       "      <th>Carnitas Salad Bowl</th>\n",
       "      <td>6</td>\n",
       "      <td>66.34</td>\n",
       "    </tr>\n",
       "    <tr>\n",
       "      <th>Carnitas Soft Tacos</th>\n",
       "      <td>40</td>\n",
       "      <td>375.94</td>\n",
       "    </tr>\n",
       "    <tr>\n",
       "      <th>Chicken Bowl</th>\n",
       "      <td>761</td>\n",
       "      <td>7342.73</td>\n",
       "    </tr>\n",
       "    <tr>\n",
       "      <th>Chicken Burrito</th>\n",
       "      <td>591</td>\n",
       "      <td>5575.82</td>\n",
       "    </tr>\n",
       "    <tr>\n",
       "      <th>Chicken Crispy Tacos</th>\n",
       "      <td>50</td>\n",
       "      <td>472.13</td>\n",
       "    </tr>\n",
       "    <tr>\n",
       "      <th>Chicken Salad</th>\n",
       "      <td>9</td>\n",
       "      <td>81.09</td>\n",
       "    </tr>\n",
       "    <tr>\n",
       "      <th>Chicken Salad Bowl</th>\n",
       "      <td>123</td>\n",
       "      <td>1228.75</td>\n",
       "    </tr>\n",
       "    <tr>\n",
       "      <th>Chicken Soft Tacos</th>\n",
       "      <td>120</td>\n",
       "      <td>1108.09</td>\n",
       "    </tr>\n",
       "    <tr>\n",
       "      <th>Chips</th>\n",
       "      <td>230</td>\n",
       "      <td>494.34</td>\n",
       "    </tr>\n",
       "    <tr>\n",
       "      <th>Chips and Fresh Tomato Salsa</th>\n",
       "      <td>130</td>\n",
       "      <td>361.36</td>\n",
       "    </tr>\n",
       "    <tr>\n",
       "      <th>Chips and Guacamole</th>\n",
       "      <td>506</td>\n",
       "      <td>2201.04</td>\n",
       "    </tr>\n",
       "    <tr>\n",
       "      <th>Chips and Mild Fresh Tomato Salsa</th>\n",
       "      <td>1</td>\n",
       "      <td>3.00</td>\n",
       "    </tr>\n",
       "    <tr>\n",
       "      <th>Chips and Roasted Chili Corn Salsa</th>\n",
       "      <td>23</td>\n",
       "      <td>67.85</td>\n",
       "    </tr>\n",
       "    <tr>\n",
       "      <th>Chips and Roasted Chili-Corn Salsa</th>\n",
       "      <td>18</td>\n",
       "      <td>43.02</td>\n",
       "    </tr>\n",
       "    <tr>\n",
       "      <th>Chips and Tomatillo Green Chili Salsa</th>\n",
       "      <td>45</td>\n",
       "      <td>132.75</td>\n",
       "    </tr>\n",
       "    <tr>\n",
       "      <th>Chips and Tomatillo Red Chili Salsa</th>\n",
       "      <td>50</td>\n",
       "      <td>147.50</td>\n",
       "    </tr>\n",
       "    <tr>\n",
       "      <th>Chips and Tomatillo-Green Chili Salsa</th>\n",
       "      <td>33</td>\n",
       "      <td>78.87</td>\n",
       "    </tr>\n",
       "    <tr>\n",
       "      <th>Chips and Tomatillo-Red Chili Salsa</th>\n",
       "      <td>25</td>\n",
       "      <td>59.75</td>\n",
       "    </tr>\n",
       "    <tr>\n",
       "      <th>Crispy Tacos</th>\n",
       "      <td>2</td>\n",
       "      <td>14.80</td>\n",
       "    </tr>\n",
       "    <tr>\n",
       "      <th>Izze</th>\n",
       "      <td>20</td>\n",
       "      <td>67.80</td>\n",
       "    </tr>\n",
       "    <tr>\n",
       "      <th>Nantucket Nectar</th>\n",
       "      <td>29</td>\n",
       "      <td>98.31</td>\n",
       "    </tr>\n",
       "    <tr>\n",
       "      <th>Salad</th>\n",
       "      <td>2</td>\n",
       "      <td>14.80</td>\n",
       "    </tr>\n",
       "    <tr>\n",
       "      <th>Side of Chips</th>\n",
       "      <td>110</td>\n",
       "      <td>185.90</td>\n",
       "    </tr>\n",
       "    <tr>\n",
       "      <th>Steak Bowl</th>\n",
       "      <td>221</td>\n",
       "      <td>2260.19</td>\n",
       "    </tr>\n",
       "    <tr>\n",
       "      <th>Steak Burrito</th>\n",
       "      <td>386</td>\n",
       "      <td>3851.43</td>\n",
       "    </tr>\n",
       "    <tr>\n",
       "      <th>Steak Crispy Tacos</th>\n",
       "      <td>36</td>\n",
       "      <td>357.34</td>\n",
       "    </tr>\n",
       "    <tr>\n",
       "      <th>Steak Salad</th>\n",
       "      <td>4</td>\n",
       "      <td>35.66</td>\n",
       "    </tr>\n",
       "    <tr>\n",
       "      <th>Steak Salad Bowl</th>\n",
       "      <td>31</td>\n",
       "      <td>343.59</td>\n",
       "    </tr>\n",
       "    <tr>\n",
       "      <th>Steak Soft Tacos</th>\n",
       "      <td>56</td>\n",
       "      <td>536.05</td>\n",
       "    </tr>\n",
       "    <tr>\n",
       "      <th>Veggie Bowl</th>\n",
       "      <td>87</td>\n",
       "      <td>867.99</td>\n",
       "    </tr>\n",
       "    <tr>\n",
       "      <th>Veggie Burrito</th>\n",
       "      <td>97</td>\n",
       "      <td>934.77</td>\n",
       "    </tr>\n",
       "    <tr>\n",
       "      <th>Veggie Crispy Tacos</th>\n",
       "      <td>1</td>\n",
       "      <td>8.49</td>\n",
       "    </tr>\n",
       "    <tr>\n",
       "      <th>Veggie Salad</th>\n",
       "      <td>6</td>\n",
       "      <td>50.94</td>\n",
       "    </tr>\n",
       "    <tr>\n",
       "      <th>Veggie Salad Bowl</th>\n",
       "      <td>18</td>\n",
       "      <td>182.50</td>\n",
       "    </tr>\n",
       "    <tr>\n",
       "      <th>Veggie Soft Tacos</th>\n",
       "      <td>8</td>\n",
       "      <td>73.96</td>\n",
       "    </tr>\n",
       "  </tbody>\n",
       "</table>\n",
       "</div>"
      ],
      "text/plain": [
       "                                       quantity  item_price\n",
       "item_name                                                  \n",
       "6 Pack Soft Drink                            55      356.95\n",
       "Barbacoa Bowl                                66      672.36\n",
       "Barbacoa Burrito                             91      894.75\n",
       "Barbacoa Crispy Tacos                        12      120.21\n",
       "Barbacoa Salad Bowl                          10      106.40\n",
       "Barbacoa Soft Tacos                          25      250.46\n",
       "Bottled Water                               211      302.56\n",
       "Bowl                                          4       29.60\n",
       "Burrito                                       6       44.40\n",
       "Canned Soda                                 126      137.34\n",
       "Canned Soft Drink                           351      438.75\n",
       "Carnitas Bowl                                71      736.71\n",
       "Carnitas Burrito                             60      597.83\n",
       "Carnitas Crispy Tacos                         8       77.96\n",
       "Carnitas Salad                                1        8.99\n",
       "Carnitas Salad Bowl                           6       66.34\n",
       "Carnitas Soft Tacos                          40      375.94\n",
       "Chicken Bowl                                761     7342.73\n",
       "Chicken Burrito                             591     5575.82\n",
       "Chicken Crispy Tacos                         50      472.13\n",
       "Chicken Salad                                 9       81.09\n",
       "Chicken Salad Bowl                          123     1228.75\n",
       "Chicken Soft Tacos                          120     1108.09\n",
       "Chips                                       230      494.34\n",
       "Chips and Fresh Tomato Salsa                130      361.36\n",
       "Chips and Guacamole                         506     2201.04\n",
       "Chips and Mild Fresh Tomato Salsa             1        3.00\n",
       "Chips and Roasted Chili Corn Salsa           23       67.85\n",
       "Chips and Roasted Chili-Corn Salsa           18       43.02\n",
       "Chips and Tomatillo Green Chili Salsa        45      132.75\n",
       "Chips and Tomatillo Red Chili Salsa          50      147.50\n",
       "Chips and Tomatillo-Green Chili Salsa        33       78.87\n",
       "Chips and Tomatillo-Red Chili Salsa          25       59.75\n",
       "Crispy Tacos                                  2       14.80\n",
       "Izze                                         20       67.80\n",
       "Nantucket Nectar                             29       98.31\n",
       "Salad                                         2       14.80\n",
       "Side of Chips                               110      185.90\n",
       "Steak Bowl                                  221     2260.19\n",
       "Steak Burrito                               386     3851.43\n",
       "Steak Crispy Tacos                           36      357.34\n",
       "Steak Salad                                   4       35.66\n",
       "Steak Salad Bowl                             31      343.59\n",
       "Steak Soft Tacos                             56      536.05\n",
       "Veggie Bowl                                  87      867.99\n",
       "Veggie Burrito                               97      934.77\n",
       "Veggie Crispy Tacos                           1        8.49\n",
       "Veggie Salad                                  6       50.94\n",
       "Veggie Salad Bowl                            18      182.50\n",
       "Veggie Soft Tacos                             8       73.96"
      ]
     },
     "execution_count": 97,
     "metadata": {},
     "output_type": "execute_result"
    }
   ],
   "source": [
    "items_quantity_price = chipotle.groupby(by=\"item_name\").agg({'quantity':'sum','item_price':'sum'})\n",
    "items_quantity_price"
   ]
  },
  {
   "cell_type": "code",
   "execution_count": 115,
   "id": "5f47d829-c68f-494e-8e58-97f0c1fcafcb",
   "metadata": {},
   "outputs": [
    {
     "data": {
      "text/plain": [
       "item_name\n",
       "6 Pack Soft Drink                         6.490000\n",
       "Barbacoa Bowl                            10.187273\n",
       "Barbacoa Burrito                          9.832418\n",
       "Barbacoa Crispy Tacos                    10.017500\n",
       "Barbacoa Salad Bowl                      10.640000\n",
       "Barbacoa Soft Tacos                      10.018400\n",
       "Bottled Water                             1.433934\n",
       "Bowl                                      7.400000\n",
       "Burrito                                   7.400000\n",
       "Canned Soda                               1.090000\n",
       "Canned Soft Drink                         1.250000\n",
       "Carnitas Bowl                            10.376197\n",
       "Carnitas Burrito                          9.963833\n",
       "Carnitas Crispy Tacos                     9.745000\n",
       "Carnitas Salad                            8.990000\n",
       "Carnitas Salad Bowl                      11.056667\n",
       "Carnitas Soft Tacos                       9.398500\n",
       "Chicken Bowl                              9.648791\n",
       "Chicken Burrito                           9.434552\n",
       "Chicken Crispy Tacos                      9.442600\n",
       "Chicken Salad                             9.010000\n",
       "Chicken Salad Bowl                        9.989837\n",
       "Chicken Soft Tacos                        9.234083\n",
       "Chips                                     2.149304\n",
       "Chips and Fresh Tomato Salsa              2.779692\n",
       "Chips and Guacamole                       4.349881\n",
       "Chips and Mild Fresh Tomato Salsa         3.000000\n",
       "Chips and Roasted Chili Corn Salsa        2.950000\n",
       "Chips and Roasted Chili-Corn Salsa        2.390000\n",
       "Chips and Tomatillo Green Chili Salsa     2.950000\n",
       "Chips and Tomatillo Red Chili Salsa       2.950000\n",
       "Chips and Tomatillo-Green Chili Salsa     2.390000\n",
       "Chips and Tomatillo-Red Chili Salsa       2.390000\n",
       "Crispy Tacos                              7.400000\n",
       "Izze                                      3.390000\n",
       "Nantucket Nectar                          3.390000\n",
       "Salad                                     7.400000\n",
       "Side of Chips                             1.690000\n",
       "Steak Bowl                               10.227104\n",
       "Steak Burrito                             9.977798\n",
       "Steak Crispy Tacos                        9.926111\n",
       "Steak Salad                               8.915000\n",
       "Steak Salad Bowl                         11.083548\n",
       "Steak Soft Tacos                          9.572321\n",
       "Veggie Bowl                               9.976897\n",
       "Veggie Burrito                            9.636804\n",
       "Veggie Crispy Tacos                       8.490000\n",
       "Veggie Salad                              8.490000\n",
       "Veggie Salad Bowl                        10.138889\n",
       "Veggie Soft Tacos                         9.245000\n",
       "dtype: float64"
      ]
     },
     "execution_count": 115,
     "metadata": {},
     "output_type": "execute_result"
    }
   ],
   "source": [
    "items_price_per_quantity = items_quantity_price.item_price / items_quantity_price.quantity\n",
    "items_price_per_quantity"
   ]
  },
  {
   "cell_type": "code",
   "execution_count": 119,
   "id": "a37b0f4d-71f7-4004-a085-8c5c5d0f328b",
   "metadata": {},
   "outputs": [
    {
     "data": {
      "text/plain": [
       "item_name\n",
       "Steak Salad Bowl       11.083548\n",
       "Carnitas Salad Bowl    11.056667\n",
       "Barbacoa Salad Bowl    10.640000\n",
       "Carnitas Bowl          10.376197\n",
       "Steak Bowl             10.227104\n",
       "dtype: float64"
      ]
     },
     "execution_count": 119,
     "metadata": {},
     "output_type": "execute_result"
    }
   ],
   "source": [
    "top5_items_by_price_per_quantity = top5_items_by_price_per_quantity.sort_values(ascending=False).head(5)\n",
    "top5_items_by_price_per_quantity"
   ]
  },
  {
   "cell_type": "code",
   "execution_count": 121,
   "id": "6ad9751a-3945-4dae-adc9-a1f602c4b4f7",
   "metadata": {},
   "outputs": [
    {
     "data": {
      "image/png": "[encoded data removed]",
      "text/plain": [
       "<Figure size 640x480 with 1 Axes>"
      ]
     },
     "metadata": {},
     "output_type": "display_data"
    }
   ],
   "source": [
    "plt.barh(top5_items_by_price_per_quantity.index,top5_items_by_price_per_quantity.values)\n",
    "plt.show()"
   ]
  },
  {
   "cell_type": "code",
   "execution_count": null,
   "id": "db60d4c1-e5a0-46d8-b27e-c5985eb4100a",
   "metadata": {},
   "outputs": [],
   "source": []
  }
 ],
 "metadata": {
  "kernelspec": {
   "display_name": "Python [conda env:base] *",
   "language": "python",
   "name": "conda-base-py"
  },
  "language_info": {
   "codemirror_mode": {
    "name": "ipython",
    "version": 3
   },
   "file_extension": ".py",
   "mimetype": "text/x-python",
   "name": "python",
   "nbconvert_exporter": "python",
   "pygments_lexer": "ipython3",
   "version": "3.12.7"
  }
 },
 "nbformat": 4,
 "nbformat_minor": 5
}
